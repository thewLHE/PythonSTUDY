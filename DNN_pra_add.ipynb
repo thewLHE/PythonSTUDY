{
  "nbformat": 4,
  "nbformat_minor": 0,
  "metadata": {
    "colab": {
      "name": "DNN_pra_add.ipynb",
      "provenance": [],
      "collapsed_sections": [],
      "toc_visible": true,
      "authorship_tag": "ABX9TyN0OtM5mOYxWd+mRY5758+x",
      "include_colab_link": true
    },
    "kernelspec": {
      "name": "python3",
      "display_name": "Python 3"
    },
    "language_info": {
      "name": "python"
    }
  },
  "cells": [
    {
      "cell_type": "markdown",
      "metadata": {
        "id": "view-in-github",
        "colab_type": "text"
      },
      "source": [
        "<a href=\"https://colab.research.google.com/github/thewLHE/Python/blob/P-AI/DNN_pra_add.ipynb\" target=\"_parent\"><img src=\"https://colab.research.google.com/assets/colab-badge.svg\" alt=\"Open In Colab\"/></a>"
      ]
    },
    {
      "cell_type": "markdown",
      "source": [
        "#module importing"
      ],
      "metadata": {
        "id": "QfmZZ5FVvzI_"
      }
    },
    {
      "cell_type": "code",
      "execution_count": 3,
      "metadata": {
        "id": "Q2jIByymt2yx"
      },
      "outputs": [],
      "source": [
        "import numpy as np#수이 데이터를 다루는 파이썬 패키지\n",
        "import pandas as pd#파이썬 데이터 처리를 위한 라이브러리\n",
        "import matplotlib.pyplot as plt\n",
        "\n",
        "import tensorflow as tf#머신러닝 프레임 워크\n",
        "from tensorflow import keras#라이브러리로 프로토 타이핑시 유용\n",
        "from tensorflow.keras import optimizers\n",
        "#기본적으론 손실함수를 통해 얻은 손실값으로부터 모델을 업데이트 하는 방식\n",
        "from tensorflow.keras.layers import Dense, Input\n",
        "#Dense :이 레이어의 각 뉴런이 이전 계층의 모든 뉴런으로 입력을 받음(추출된 정보들을 하나의 레이어로 모으고 원하는 차원으로 축소하기 위한 레이어) \n",
        "#즉, 중간 퍼셉트론 /Input에서 입력의 크기를 정의함\n",
        "import time"
      ]
    },
    {
      "cell_type": "markdown",
      "source": [
        "#DNN구성하기 위한 최소 코드"
      ],
      "metadata": {
        "id": "7j2lbwXs1N_k"
      }
    },
    {
      "cell_type": "markdown",
      "source": [
        "##데이터 준비"
      ],
      "metadata": {
        "id": "f77EpIXI2YxZ"
      }
    },
    {
      "cell_type": "code",
      "source": [
        "x=np.arange(-1,1,0.01)\n",
        "y=x**2\n",
        "plt.scatter(x,y)#이를 이용해서 산점도 그림"
      ],
      "metadata": {
        "colab": {
          "base_uri": "https://localhost:8080/",
          "height": 283
        },
        "id": "HTKqwgER1bw4",
        "outputId": "76b98f62-09fb-473c-ab03-c5579fdd8ee1"
      },
      "execution_count": 6,
      "outputs": [
        {
          "output_type": "execute_result",
          "data": {
            "text/plain": [
              "<matplotlib.collections.PathCollection at 0x7fdd28bcad50>"
            ]
          },
          "metadata": {},
          "execution_count": 6
        },
        {
          "output_type": "display_data",
          "data": {
            "text/plain": [
              "<Figure size 432x288 with 1 Axes>"
            ],
            "image/png": "[encoded data removed]"
          },
          "metadata": {
            "needs_background": "light"
          }
        }
      ]
    },
    {
      "cell_type": "markdown",
      "source": [
        "##구성 코드\n",
        "- 모델정의 \n",
        "- 컴파일: 모델 + optimzer + loss(loss최소화를 위하여)\n",
        "- 학습\n",
        "- 예측\n",
        "- 결과확인\n",
        "\n",
        "https://keras.io/ko/getting-started/sequential-model-guide/"
      ],
      "metadata": {
        "id": "peWKRtWH3G8o"
      }
    },
    {
      "cell_type": "code",
      "source": [
        "#모델 정의\n",
        "model=keras.Sequential()\n",
        "#Sequential모델을 이용해 레이어를 선형으로 연결하여 구성\n",
        "model.add(Input(1))#add를 이용해 레이어를 추가\n",
        "model.add(Dense(10,activation='tanh'))#뉴런의 수는 10, 활성 함수는 'tanh'\n",
        "model.add(Dense(10,activation='tanh'))\n",
        "model.add(Dense(1))\n",
        "\n",
        "#컴파일 \n",
        "model.compile(optimizer=\"SGD\",loss=\"mse\")#이는 모델의 성능을 평가하는데 사용되는 함수\n",
        "#optimizer : 훈련 과정을 설정 / loss : 최적화 과정에서 최소화 될 손실함수 를 설정\n",
        "\n",
        "#학습\n",
        "model.fit(x,y,epochs=100,verbose=0,batch_size=32)#주어진 epoch 수만큼 모델을 학습시키는 메서드\n",
        "#batch_size : 한번에 사용해야 하는 트레이닝 데이터의 크기를 지정하는 것\n",
        "#verbose : 학습 진행 상황에 대한 출력 여부 지정[0:slient, 1:progress bar, 2:one line per epoch]\n",
        "\n",
        "#예측\n",
        "y_=model.predict(x)#테스트 이미지의 분류 결과를 예측 / 반환값 =예측확률\n",
        "\n",
        "#결과 그래프로 보기\n",
        "plt.scatter(x,y)#answer\n",
        "plt.scatter(x,y_,color=\"y\")#result(predict)\n",
        "plt.show()"
      ],
      "metadata": {
        "colab": {
          "base_uri": "https://localhost:8080/",
          "height": 265
        },
        "id": "BNwYPe1a2cql",
        "outputId": "d4efe692-9568-4bee-fcf5-fb706a690309"
      },
      "execution_count": 7,
      "outputs": [
        {
          "output_type": "display_data",
          "data": {
            "text/plain": [
              "<Figure size 432x288 with 1 Axes>"
            ],
            "image/png": "[encoded data removed]"
          },
          "metadata": {
            "needs_background": "light"
          }
        }
      ]
    },
    {
      "cell_type": "markdown",
      "source": [
        "#기본으로 사용되는 것"
      ],
      "metadata": {
        "id": "3qXngyKNfCP6"
      }
    },
    {
      "cell_type": "markdown",
      "source": [
        "## model.evaluate() - 성능 평가하기"
      ],
      "metadata": {
        "id": "Mg40VKCOf02H"
      }
    },
    {
      "cell_type": "code",
      "source": [
        "#model.compile(optimizer=\"SGD\",loss=\"mse\")\n",
        "model.compile(optimizer=\"SGD\",loss=\"mse\",metrics=[\"mae\"])\n",
        "#metrics : 훈련을 모니터링 하기 위한 코드\n",
        "\n",
        "model.fit(x,y,epochs=100,verbose=0,batch_size=30)\n",
        "\n",
        "loss, mae=model.evaluate(x,y)#evaluate() #데이터 세트를 입력하여 성능을 평가 / 반환값 =정확도등의 Metrics\n",
        "print(\"loss=\",loss)\n",
        "print(\"mae=\",mae)\n",
        "\n",
        "y_ = model.predict(x)\n",
        "\n",
        "plt.scatter(x,y)\n",
        "plt.scatter(x,y_,color='r')\n",
        "plt.show()\n"
      ],
      "metadata": {
        "colab": {
          "base_uri": "https://localhost:8080/",
          "height": 319
        },
        "id": "QQsrlc94f5CV",
        "outputId": "3381e078-0900-46b7-9a49-3cc2bc12296a"
      },
      "execution_count": 8,
      "outputs": [
        {
          "output_type": "stream",
          "name": "stdout",
          "text": [
            "7/7 [==============================] - 0s 2ms/step - loss: 0.0128 - mae: 0.0874\n",
            "loss= 0.012760004960000515\n",
            "mae= 0.08739562332630157\n"
          ]
        },
        {
          "output_type": "display_data",
          "data": {
            "text/plain": [
              "<Figure size 432x288 with 1 Axes>"
            ],
            "image/png": "[encoded data removed]"
          },
          "metadata": {
            "needs_background": "light"
          }
        }
      ]
    },
    {
      "cell_type": "markdown",
      "source": [
        "##데이터 분리(train / test)\n",
        "테스트셋으로 평가하기"
      ],
      "metadata": {
        "id": "m7QDnngHf4rR"
      }
    },
    {
      "cell_type": "code",
      "source": [
        "np.random.shuffle(x)\n",
        "split_index=int(x.shape[0]*0.6)\n",
        "y=x**2\n",
        "\n",
        "train_x, test_x=x[:split_index],x[split_index:]\n",
        "train_y, test_y=y[:split_index],y[split_index:]\n",
        "\n",
        "plt.scatter(train_x,train_y)\n",
        "plt.scatter(test_x,test_y,color=\"r\")\n",
        "plt.show()"
      ],
      "metadata": {
        "colab": {
          "base_uri": "https://localhost:8080/",
          "height": 265
        },
        "id": "kpIBOF2oh2a9",
        "outputId": "0bc064d2-10c6-466d-a156-4b2ae9ad92a0"
      },
      "execution_count": 14,
      "outputs": [
        {
          "output_type": "display_data",
          "data": {
            "text/plain": [
              "<Figure size 432x288 with 1 Axes>"
            ],
            "image/png": "[encoded data removed]"
          },
          "metadata": {
            "needs_background": "light"
          }
        }
      ]
    },
    {
      "cell_type": "markdown",
      "source": [
        "train_x, train_y로 학습하였고,\n",
        "evaluate()와 predict()에는 test_x, test_y를 사용하였다.\n",
        "\n",
        "그려진 그림을 보면 test_x의 점사이에 빈 간격이 보인다. 그 간격이 train_x에 해당한다."
      ],
      "metadata": {
        "id": "EowioBShj42O"
      }
    },
    {
      "cell_type": "markdown",
      "source": [
        "##학습 시간을 출력(경과 시간)"
      ],
      "metadata": {
        "id": "YagOEkQ4kQA0"
      }
    },
    {
      "cell_type": "code",
      "source": [
        "start_time=time.time()#ADD #현재 컴퓨터의 시각\n",
        "\n",
        "model.fit(train_x, train_y, epochs=1000, verbose=0, batch_size=32)\n",
        "print(\"elapsed : {}\".format(time.time() - start_time)) # ADD\n",
        "\n"
      ],
      "metadata": {
        "colab": {
          "base_uri": "https://localhost:8080/"
        },
        "id": "6mKI_MMPkTIU",
        "outputId": "dbd207a3-ea69-4f6d-b8db-1f8a2450c4e2"
      },
      "execution_count": 15,
      "outputs": [
        {
          "output_type": "stream",
          "name": "stdout",
          "text": [
            "elapsed : 10.277187824249268\n"
          ]
        }
      ]
    },
    {
      "cell_type": "markdown",
      "source": [
        "##네트워크의 모양 보기"
      ],
      "metadata": {
        "id": "-TlPgj7RlDQw"
      }
    },
    {
      "cell_type": "code",
      "source": [
        "model = keras.Sequential(name=\"my_model\")\n",
        "model.add(Input(1,name=\"input\"))\n",
        "model.add(Dense(10, activation='tanh',name=\"hidden1\"))\n",
        "model.add(Dense(10, activation='tanh',name=\"hidden2\"))\n",
        "model.add(Dense(1,name=\"output\"))\n",
        "\n",
        "model.compile(optimizer=\"SGD\", loss=\"mse\", metrics=[\"mae\"])\n",
        "model.summary() # ADD / 레이어 이름은 자동으로 주어진다. (,나오는 출력층) 업데이트 하는 weight 숫자\n"
      ],
      "metadata": {
        "colab": {
          "base_uri": "https://localhost:8080/"
        },
        "id": "fXBNZ0c_lddm",
        "outputId": "6c54e019-0a4a-43e8-8a4f-fb92ed406645"
      },
      "execution_count": 16,
      "outputs": [
        {
          "output_type": "stream",
          "name": "stdout",
          "text": [
            "Model: \"my_model\"\n",
            "_________________________________________________________________\n",
            " Layer (type)                Output Shape              Param #   \n",
            "=================================================================\n",
            " hidden1 (Dense)             (None, 10)                20        \n",
            "                                                                 \n",
            " hidden2 (Dense)             (None, 10)                110       \n",
            "                                                                 \n",
            " output (Dense)              (None, 1)                 11        \n",
            "                                                                 \n",
            "=================================================================\n",
            "Total params: 141\n",
            "Trainable params: 141\n",
            "Non-trainable params: 0\n",
            "_________________________________________________________________\n"
          ]
        }
      ]
    },
    {
      "cell_type": "markdown",
      "source": [
        "노드 10개 / 노드 10개를 갖는 은닉층 2개가 있음\n",
        "모든 레이어는 activation(w*x+b) 의 형태\n",
        "\n",
        "\n",
        "첫 번 째 은닉층은 20개( = ((1+1)*10) = (입력수+1)*10)의 웨이트를,\n",
        "\n",
        "두 번 째 은닉층은 110개( = ( (10+1)*10) )의 웨이트가 있다.. "
      ],
      "metadata": {
        "id": "68U7THmel0W8"
      }
    },
    {
      "cell_type": "markdown",
      "source": [
        "##모델 그리기"
      ],
      "metadata": {
        "id": "5tuM2XzKmKc5"
      }
    },
    {
      "cell_type": "code",
      "source": [
        "tf.keras.utils.plot_model(model=model, rankdir=\"LR\", dpi=72, show_shapes=True)\n",
        "#show shape - input&output보여주는 여부,rankdir - 보여주는 형식\n"
      ],
      "metadata": {
        "colab": {
          "base_uri": "https://localhost:8080/",
          "height": 118
        },
        "id": "8mbXYxQ_l002",
        "outputId": "7bd6e058-ff9b-4380-ece3-7963d8809340"
      },
      "execution_count": 17,
      "outputs": [
        {
          "output_type": "execute_result",
          "data": {
            "image/png": "[encoded data removed]",
            "text/plain": [
              "<IPython.core.display.Image object>"
            ]
          },
          "metadata": {},
          "execution_count": 17
        }
      ]
    },
    {
      "cell_type": "markdown",
      "source": [
        "##결과저장"
      ],
      "metadata": {
        "id": "H4tNS2e_mVJI"
      }
    },
    {
      "cell_type": "code",
      "source": [
        "plt.scatter(test_x,test_y)\n",
        "plt.scatter(train_x,train_y,color='r')\n",
        "plt.savefig(\"base_result.png\")#그래프를 이미지 파일로 저장한다.\n",
        "\n",
        "from IPython.display import Image\n",
        "display(Image(\"base_result.png\"))#특정파일을 읽는 것"
      ],
      "metadata": {
        "colab": {
          "base_uri": "https://localhost:8080/",
          "height": 553
        },
        "id": "kjW9ZD16meXX",
        "outputId": "a398b416-757a-4add-9ebb-d95d7cdeb1d4"
      },
      "execution_count": 21,
      "outputs": [
        {
          "output_type": "display_data",
          "data": {
            "image/png": "[encoded data removed]",
            "text/plain": [
              "<IPython.core.display.Image object>"
            ]
          },
          "metadata": {}
        },
        {
          "output_type": "display_data",
          "data": {
            "text/plain": [
              "<Figure size 432x288 with 1 Axes>"
            ],
            "image/png": "[encoded data removed]"
          },
          "metadata": {
            "needs_background": "light"
          }
        }
      ]
    },
    {
      "cell_type": "markdown",
      "source": [
        "#Keras의 DNN Template\n",
        "\n",
        "\n",
        "1. 모델 정의\n",
        "2. 모델 컴파일\n",
        "3. 학습 \n",
        "4. 평가\n",
        "5. 예측\n",
        "\n"
      ],
      "metadata": {
        "id": "3jgVBWTanNX0"
      }
    },
    {
      "cell_type": "code",
      "source": [
        "import numpy as np\n",
        "import matplotlib.pyplot as plt\n",
        "\n",
        "from tensorflow import keras\n",
        "from tensorflow.keras import optimizers\n",
        "from tensorflow.keras.layers import Dense, Input\n",
        "\n",
        "import time\n",
        "\n",
        "# 모델 정의\n",
        "model = keras.Sequential()\n",
        "model.add(Input(1))\n",
        "model.add(Dense(10, activation='tanh'))\n",
        "model.add(Dense(10, activation='tanh'))\n",
        "model.add(Dense(1))\n",
        "\n",
        "# 모델 컴파일\n",
        "model.compile(optimizer=\"SGD\", loss=\"mse\", metrics=[\"mae\"])\n",
        "model.summary()\n",
        "\n",
        "# 학습\n",
        "start_time = time.time()\n",
        "model.fit(train_x, train_y, epochs=1000, verbose=0, batch_size=32)\n",
        "print(\"elapsed : {}\".format(time.time() - start_time))\n",
        "\n",
        "# 평가\n",
        "loss, mae = model.evaluate(test_x, test_y)\n",
        "print(\"loss=\", loss)\n",
        "print(\"mae=\", mae)\n",
        "\n",
        "# 예측\n",
        "y_ = model.predict(test_x)\n",
        "\n",
        "plt.scatter(test_x,test_y)\n",
        "plt.scatter(test_x,y_,color='r')\n",
        "plt.show()"
      ],
      "metadata": {
        "id": "s08yWQC9nZWS"
      },
      "execution_count": null,
      "outputs": []
    }
  ]
}