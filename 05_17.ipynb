{
 "cells": [
  {
   "cell_type": "code",
   "execution_count": null,
   "id": "85ba3101",
   "metadata": {
    "slideshow": {
     "slide_type": "-"
    }
   },
   "outputs": [],
   "source": [
    "#multi-line string\n",
    "s=\"hello world\"\n",
    "s1=\"\"\"helo world\n",
    "    hello world\"\"\"\n",
    "s1#how to save in com --> 'helo world\\n    hello world'\n",
    "a=\"hello\"  \"world\"\n",
    "a=(\"hello\"\n",
    "   \"world\")\n",
    "#print(a) #-> helloworld\n",
    "#a=\"hello\"\\# \\ it means line continuation.(for a escape char)\n",
    "#   \"worlds\"\n",
    "#print(a) #->helloworlds\n",
    "a=\"hello\\nworld\"\n",
    "#print(a) #-> hello\n",
    "         #   world\n",
    "#data type conversion\n",
    "str(1)\n",
    "str(1.1+2.2)#str provide \"pretty conversion\"\n",
    "repr(1.4+2.2)#repr provide the full con\n",
    "    #test01\n",
    "inp=input(\"insert num :\")# it only getting string value\n",
    "inp=int(inp)#so.. i have to convert int v\n",
    "if(inp%2==0):\n",
    "    print(\"this is even\")\n",
    "else :\n",
    "    print(\"this is odd\")\n",
    "\n",
    "#date=2022+\"year\" #error\n",
    "daten=\"2022\"+\"year\"\n",
    "daten=\"Year:\"+str(2022)\n",
    "#print(daten)\n",
    "s2=str(1.1+2.2)\n",
    "#print(s2) #3.3000000000000003\n",
    "int('23')\n",
    "#int('23.45') #error -- valuerror\n",
    "int(float('23.45')) #so.. this way\n",
    "float('12')\n",
    "#indexing and slicing oedered seq (string, list, tuple ...) \n",
    "#var[lower:upper:step]\n",
    "s=\"hello world\"\n",
    "s[3:8] #'lo wo'\n",
    "s[0];s[4]\n",
    "s[-3]#count from the back\n",
    "s[1:3] ;s[1:-2] ;s[-4:3]\n",
    "    #omitted indices\n",
    "s[:3] ;s[-3:]\n",
    "    #skipping values\n",
    "s[::2]\n",
    "    #these are equivalent\n",
    "s[::] ; s[0:len(s)] ;s[::-3]\n",
    "    #test\n",
    "dna=aspartokinase\n",
    "c_dna=dna[:30:]\n",
    "c_dna=c_dna.strip()\n",
    "c_dna[0:len(c_dna)]\n",
    "c_dna[len(c_dna)-1]\n",
    "\"a\"+\"bc\" ;3*\"bc\";\n",
    "\"abcd\"[2] #re- c#\"3\"*\"bc\"#typeerror\n",
    "\"abcd\"[0:2] ;\"abcd\"[:2];\"abcd\"[2:]\n",
    "str1='hello' ; str2=',' ;str3='world'\n",
    "str1 ;len(str1);#str1[len(str1)]#indexerror\n",
    "str1+str2+str3 ; str1+str2+' '+str3 ;str3*3; 'hello'==str1 #true\n",
    "'HELLO'==str1; 'a' in str3; str4=str1+str3 ; 'low' in str4 ;str4[1:9];str4[1:9:2];str4[::-1]\n",
    "#Program(or  scripts)\n",
    "    #terminal을 이용하여 test시행함.(picter//cat 명령어)\n",
    "#prividing input"
   ]
  },
  {
   "cell_type": "code",
   "execution_count": null,
   "id": "445f8152",
   "metadata": {},
   "outputs": [],
   "source": []
  }
 ],
 "metadata": {
  "kernelspec": {
   "display_name": "Python 3 (ipykernel)",
   "language": "python",
   "name": "python3"
  },
  "language_info": {
   "codemirror_mode": {
    "name": "ipython",
    "version": 3
   },
   "file_extension": ".py",
   "mimetype": "text/x-python",
   "name": "python",
   "nbconvert_exporter": "python",
   "pygments_lexer": "ipython3",
   "version": "3.9.7"
  }
 },
 "nbformat": 4,
 "nbformat_minor": 5
}
