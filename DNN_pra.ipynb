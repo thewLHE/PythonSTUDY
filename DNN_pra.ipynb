{
  "nbformat": 4,
  "nbformat_minor": 0,
  "metadata": {
    "colab": {
      "name": "DNN_pra.ipynb",
      "provenance": [],
      "collapsed_sections": [],
      "toc_visible": true,
      "authorship_tag": "ABX9TyNX+ryS1oAUa4Syh49pp4pZ",
      "include_colab_link": true
    },
    "kernelspec": {
      "name": "python3",
      "display_name": "Python 3"
    },
    "language_info": {
      "name": "python"
    }
  },
  "cells": [
    {
      "cell_type": "markdown",
      "metadata": {
        "id": "view-in-github",
        "colab_type": "text"
      },
      "source": [
        "<a href=\"https://colab.research.google.com/github/thewLHE/Python/blob/P-AI/DNN_pra.ipynb\" target=\"_parent\"><img src=\"https://colab.research.google.com/assets/colab-badge.svg\" alt=\"Open In Colab\"/></a>"
      ]
    },
    {
      "cell_type": "markdown",
      "source": [
        "#module importing"
      ],
      "metadata": {
        "id": "QfmZZ5FVvzI_"
      }
    },
    {
      "cell_type": "code",
      "execution_count": 3,
      "metadata": {
        "id": "Q2jIByymt2yx"
      },
      "outputs": [],
      "source": [
        "import numpy as np#수이 데이터를 다루는 파이썬 패키지\n",
        "import pandas as pd#파이썬 데이터 처리를 위한 라이브러리\n",
        "import matplotlib.pyplot as plt\n",
        "\n",
        "import tensorflow as tf#머신러닝 프레임 워크\n",
        "from tensorflow import keras#라이브러리로 프로토 타이핑시 유용\n",
        "from tensorflow.keras import optimizers\n",
        "#기본적으론 손실함수를 통해 얻은 손실값으로부터 모델을 업데이트 하는 방식\n",
        "from tensorflow.keras.layers import Dense, Input\n",
        "#Dense :이 레이어의 각 뉴런이 이전 계층의 모든 뉴런으로 입력을 받음(추출된 정보들을 하나의 레이어로 모으고 원하는 차원으로 축소하기 위한 레이어) \n",
        "#즉, 중간 퍼셉트론 /Input에서 입력의 크기를 정의함\n",
        "import time"
      ]
    },
    {
      "cell_type": "markdown",
      "source": [
        "#DNN구성하기 위한 최소 코드"
      ],
      "metadata": {
        "id": "7j2lbwXs1N_k"
      }
    },
    {
      "cell_type": "markdown",
      "source": [
        "##데이터 준비"
      ],
      "metadata": {
        "id": "f77EpIXI2YxZ"
      }
    },
    {
      "cell_type": "code",
      "source": [
        "x=np.arange(-1,1,0.01)\n",
        "y=x**2\n",
        "plt.scatter(x,y)#이를 이용해서 산점도 그림"
      ],
      "metadata": {
        "colab": {
          "base_uri": "https://localhost:8080/",
          "height": 283
        },
        "id": "HTKqwgER1bw4",
        "outputId": "76b98f62-09fb-473c-ab03-c5579fdd8ee1"
      },
      "execution_count": 6,
      "outputs": [
        {
          "output_type": "execute_result",
          "data": {
            "text/plain": [
              "<matplotlib.collections.PathCollection at 0x7fdd28bcad50>"
            ]
          },
          "metadata": {},
          "execution_count": 6
        },
        {
          "output_type": "display_data",
          "data": {
            "text/plain": [
              "<Figure size 432x288 with 1 Axes>"
            ],
            "image/png": "[encoded data removed]"
          },
          "metadata": {
            "needs_background": "light"
          }
        }
      ]
    },
    {
      "cell_type": "markdown",
      "source": [
        "##구성 코드\n",
        "- 모델정의 \n",
        "- 컴파일: 모델 + optimzer + loss(loss최소화를 위하여)\n",
        "- 학습\n",
        "- 예측\n",
        "- 결과확인\n",
        "\n",
        "https://keras.io/ko/getting-started/sequential-model-guide/"
      ],
      "metadata": {
        "id": "peWKRtWH3G8o"
      }
    },
    {
      "cell_type": "code",
      "source": [
        "#모델 정의\n",
        "model=keras.Sequential()\n",
        "#Sequential모델을 이용해 레이어를 선형으로 연결하여 구성\n",
        "model.add(Input(1))#add를 이용해 레이어를 추가\n",
        "model.add(Dense(10,activation='tanh'))#뉴런의 수는 10, 활성 함수는 'tanh'\n",
        "model.add(Dense(10,activation='tanh'))\n",
        "model.add(Dense(1))\n",
        "\n",
        "#컴파일 \n",
        "model.compile(optimizer=\"SGD\",loss=\"mse\")#이는 모델의 성능을 평가하는데 사용되는 함수\n",
        "#optimizer : 훈련 과정을 설정 / loss : 최적화 과정에서 최소화 될 손실함수 를 설정\n",
        "#학습\n",
        "model.fit(x,y,epochs=100,verbose=0,batch_size=32)#주어진 epoch 수만큼 모델을 학습시키는 메서드\n",
        "#batch_size : 한번에 사용해야 하는 트레이닝 데이터의 크기를 지정하는 것\n",
        "#verbose : 학습 진행 상황에 대한 출력 여부 지정[0:slient, 1:progress bar, 2:one line per epoch]\n",
        "\n",
        "#예측\n",
        "y_=model.predict(x)#테스트 이미지의 분류 결과를 예측 / 반환값 =예측확률\n",
        "#evaluate() #데이터 세트를 입력하여 성능을 평가 / 반환값 =정확도등의 Metrics\n",
        "#결과 그래프로 보기\n",
        "plt.scatter(x,y)#answer\n",
        "plt.scatter(x,y_,color=\"y\")#result(predict)\n",
        "plt.show()"
      ],
      "metadata": {
        "colab": {
          "base_uri": "https://localhost:8080/",
          "height": 265
        },
        "id": "BNwYPe1a2cql",
        "outputId": "d4efe692-9568-4bee-fcf5-fb706a690309"
      },
      "execution_count": 7,
      "outputs": [
        {
          "output_type": "display_data",
          "data": {
            "text/plain": [
              "<Figure size 432x288 with 1 Axes>"
            ],
            "image/png": "[encoded data removed]"
          },
          "metadata": {
            "needs_background": "light"
          }
        }
      ]
    }
  ]
}