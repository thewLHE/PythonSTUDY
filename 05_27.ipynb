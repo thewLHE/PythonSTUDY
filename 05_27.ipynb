{
 "cells": [
  {
   "cell_type": "code",
   "execution_count": null,
   "id": "947642e5",
   "metadata": {},
   "outputs": [],
   "source": [
    "    #create a codon table using dictionary\n",
    "#DNA code!!!!(START CONDON-TAA-->PRESENT to \"*\") 101p\n",
    "codon_table={\n",
    "    'TTT':'F','TTC':'F','TTA':'L','TTG':'L',\n",
    "    'TCT': 'S', 'TCC': 'S', 'TCA': 'S', 'TCG': 'S',\n",
    "    'TAT': 'Y', 'TAC': 'Y', 'TAA': '*', 'TAG': '*',\n",
    "    'TGT': 'C', 'TGC': 'C', 'TGA': '*', 'TGG': 'W',\n",
    "    'CTT': 'L', 'CTC': 'L', 'CTA': 'L', 'CTG': 'L',\n",
    "    'CCT': 'P', 'CCC': 'P', 'CCA': 'P', 'CCG': 'P',\n",
    "    'CAT': 'H', 'CAC': 'H', 'CAA': 'Q', 'CAG': 'Q',\n",
    "    'CGT': 'R', 'CGC': 'R', 'CGA': 'R', 'CGG': 'R',\n",
    "    'ATT': 'I', 'ATC': 'I', 'ATA': 'I', 'ATG': 'M',\n",
    "    'ACT': 'T', 'ACC': 'T', 'ACA': 'T', 'ACG': 'T',\n",
    "    'AAT': 'N', 'AAC': 'N', 'AAA': 'K', 'AAG': 'K',\n",
    "    'AGT': 'S', 'AGC': 'S', 'AGA': 'R', 'AGG': 'R',\n",
    "    'GTT': 'V', 'GTC': 'V', 'GTA': 'V', 'GTG': 'V',\n",
    "    'GCT': 'A', 'GCC': 'A', 'GCA': 'A', 'GCG': 'A',\n",
    "    'GAT': 'D', 'GAC': 'D', 'GAA': 'E', 'GAG': 'E',\n",
    "    'GGT': 'G', 'GGC': 'G', 'GGA': 'G', 'GGG': 'G',\n",
    "}\n",
    "dna='ATGTTGACGGTTTTATGATGAAGT'\n",
    "\n",
    "#assigment : waht doe the equal sign mean\n",
    "x=[1,2,3]#mutable\n",
    "y=x#immutable\n",
    "y[1]='abc'#imm\n",
    "y=[700,800]#mutable\n",
    "def mult(x,y):\n",
    "        res=x*y;\n",
    "        return res;\n",
    "s='abcdefg'\n",
    "#s[1:3]='xx' #typeerror\n",
    "s=s[:1]+\"xxx\"+s[3:]\n",
    "\n",
    "\"\"\"       \n",
    "if(x%2==0):\n",
    "        print('Even')\n",
    "else:\n",
    "        print('')\n",
    "        print('Odd')\n",
    "print('Done with conditional')\n",
    "\"\"\"\""
   ]
  },
  {
   "cell_type": "code",
   "execution_count": 73,
   "id": "804ad44e",
   "metadata": {},
   "outputs": [
    {
     "name": "stdout",
     "output_type": "stream",
     "text": [
      "Enter string about Dna:atgdsdfgggopo\n",
      "the string is not DNA\n",
      "the string is not DNA\n",
      "Incorrect character:{'D', 'F', 'O', 'S', 'P'}\n"
     ]
    }
   ],
   "source": [
    "#branching program\n",
    "    #The simplest branching statement is a conditional #code block - action block\n",
    "\n",
    "    #example\n",
    "#x = int(input('Enter an integer: ')\n",
    "    #example) DNA sequence indentifiction#ATGC\n",
    "\"\"\"dna_seq=input(\"Enter DNA:\")\n",
    "dna_seq=dna_seq.upper()\n",
    "i=0;a=0;c=len(dna_seq)\n",
    "for i in range(c):\n",
    "    if(dna_seq[a]==\"A\"or dna_seq[a]==\"G\"or dna_seq[a]==\"C\"or dna_seq[a]==\"T\"):\n",
    "        #print(dna_seq[a])\n",
    "        a+=1;\n",
    "        if(a==c):\n",
    "            print(\"It is dna seq\\n\")\n",
    "    else:\n",
    "        print(\"it is not\\n\")\n",
    "        break\n",
    "print(\"finish\")\"\"\"\n",
    "    #sol?\n",
    "s=input(\"Enter string about Dna:\")\n",
    "s=s.strip()\n",
    "s=s.upper()\n",
    "noBase=s.count('A')+s.count('G')+s.count('C')+s.count('T')#원하는 값만 우선 카운트하고\n",
    "\"\"\"\n",
    "if noBase==len(s):#전체 길이와 카운트 한 값을 비교한다.(만약 다른것이 있는면 False)\n",
    "    print(\"the string is DNA\")\n",
    "else:\n",
    "    print(\"the string is not DNA\")\n",
    "    #lenght and GCcontaints either print\n",
    "  \"\"\"  \n",
    "    #GC contains & lenght 1\n",
    "if noBase==len(s):\n",
    "    print(\"The len is\",noBase)\n",
    "    GC=(s.count(\"G\")+s.count(\"C\"))/noBase*100\n",
    "    print(\"GC containts is\",GC)\n",
    "    print(\"the string is DNA\")\n",
    "else:\n",
    "    print(\"the string is not DNA\")\n",
    "    # 2\n",
    "if noBase==len(s):\n",
    "    print(\"The lenght of DNA is {}\".format(len(s)))\n",
    "    GC=(s.count(\"G\")+s.count(\"C\"))/noBase*100\n",
    "    print(\"GC contents is{:.2f}\".format(goCont))\n",
    "    print(\"the string is DNA\")\n",
    "else:\n",
    "    print(\"the string is not DNA\") \n",
    "    #원하지 않는 텍스트확인?-set\n",
    "    s_s=set(s)\n",
    "    s_dna=set(\"ATGC\")\n",
    "    s_m=s_s-s_dna\n",
    "    print(\"Incorrect character:{}\".format(s_m))\n"
   ]
  },
  {
   "cell_type": "code",
   "execution_count": 72,
   "id": "72f9d9b9",
   "metadata": {},
   "outputs": [
    {
     "name": "stdout",
     "output_type": "stream",
     "text": [
      "Enter string about Dna:atgsdggdddsspop\n",
      "{'S', 'D', 'O', 'P'}\n"
     ]
    }
   ],
   "source": [
    "s=input(\"Enter string about Dna:\")\n",
    "s=s.strip()\n",
    "s=s.upper()\n",
    "noBase=s.count('A')+s.count('G')+s.count('C')+s.count('T')#원하는 값만 우선 카운트하고\n",
    "s_s=set(s)\n",
    "s_dna=set(\"ATGC\")\n",
    "s_m=s_s-s_dna\n",
    "print(s_m)"
   ]
  }
 ],
 "metadata": {
  "kernelspec": {
   "display_name": "Python 3 (ipykernel)",
   "language": "python",
   "name": "python3"
  },
  "language_info": {
   "codemirror_mode": {
    "name": "ipython",
    "version": 3
   },
   "file_extension": ".py",
   "mimetype": "text/x-python",
   "name": "python",
   "nbconvert_exporter": "python",
   "pygments_lexer": "ipython3",
   "version": "3.9.7"
  }
 },
 "nbformat": 4,
 "nbformat_minor": 5
}
