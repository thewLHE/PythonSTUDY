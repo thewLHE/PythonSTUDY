{
 "cells": [
  {
   "cell_type": "code",
   "execution_count": 16,
   "id": "08bdcafc",
   "metadata": {},
   "outputs": [
    {
     "name": "stdout",
     "output_type": "stream",
     "text": [
      "0.7853981633974483\n",
      "y: [3.605551275463989, 0.5880026035475675]\n"
     ]
    }
   ],
   "source": [
    "#Functions - 148p\n",
    "    #function argument - 151p\n",
    "        #2 type - positional argumrnt / keyword argument\n",
    "def add(x, y): #positional argumrnt - input 인자의 위치에 따라 활당된다.(이는 먼저 나오고 keyword arg가 나오게 된다.)\n",
    "        total = x**2 + y\n",
    "        return total\n",
    "def add_2(x=0, y=1): #keyword argument - default 값을 정의 할 수 있다.(사용시 변수를 생략 가능하기도)\n",
    "        total = x + y**2\n",
    "        return total\n",
    "#print(add(3,5))#res-8\n",
    "#print(add_2())#res-1\n",
    "#print(add_2(y=2, x=3))#res-7\n",
    "#print(add(y=2, x=3))#res-11\n",
    "def func(a,b,c,x):#positional argument\n",
    "        y=a*x**2+b*x+c\n",
    "        return y\n",
    "value=func(1,2,4,0)    #res - 4\n",
    "def func2(a=1,b=0,c=0,x=1):\n",
    "        y=a*x**2+b*x+c\n",
    "        return y\n",
    "#value=func2(a=1,b=2,c=4,x=0)#res - 4\n",
    "#value=func2(x=10)#res-100  #func2(x=10,b=1,c=2,a=4)#res - 412\n",
    "\n",
    "def quad(x, a=1, b=0, c=0):#keyword arg & position arg를 섞어 이용이 가능하다\n",
    "        return a*x**2 + b*x + c\n",
    "#print(quad(2.0, b=3))#res - 10.0 #(quad(2.0))#res - 4.0\n",
    "v=quad(2.0, b=3)\n",
    "\n",
    "#print(v,100,\"HEllo\",sep=\"+++\")#10.0+++100+++HEllo -- 153p\n",
    "#print(v,100,\"HEllo\",sep=\" \",end=\" \")\n",
    "#print(\"World\")#10.0 100 HEllo World\n",
    "    #variable numbers of argument - use\"*\"\n",
    "def add(x, *args):#*args - 여러개의 arg를 이용하기 위한 키워드 #\"args\" data type = tuple\n",
    "        total = x\n",
    "        for arg in args:\n",
    "                total += arg\n",
    "        return total\n",
    "#print(add(1,2,3,4,5,6))#res - 21\n",
    "#print(add(1,2))#res - 3\n",
    "def add_2(x,**kwargs):#**kwargs의 type은 - dictionary\n",
    "        total = x \n",
    "        #print(type(kwargs))#res- dict\n",
    "        #print(kwargs)#{'y': 2, 'z': 3, 'a': 3}\n",
    "        for arg, value in kwargs.items():\n",
    "                total += value\n",
    "        return total\n",
    "#print(add_2(10, y=2, z=3, a=3))#res - 18\n",
    "#print(add_2(10, y=2, z=3, w=4, a=3))#res -22\n",
    "#print(add_2(1,2,3))#res - type error\n",
    "#str.format()#S.format(*args, **kwargs) -> str\n",
    "#\"{:2d}{:10s}{name:^8s}\".format(10,\"Hello\",name=\"chris\")#'10Hello      chris  '\n",
    "def foo(*args, **kwargs):\n",
    "        print(args, kwargs)\n",
    "#print (foo(2,'hello', arg1=3,x='bar',w='hello'))#res - (2, 'hello') {'arg1': 3, 'x': 'bar', 'w': 'hello'} None\n",
    "\n",
    "    #Unpacking argument lists - 156p\n",
    "def foo(*args, **kwargs):\n",
    "        return sum(args), sum(kwargs.values())\n",
    "x = range(11)\n",
    "#print(foo(*x))#(55,0)\n",
    "y = {str(i):i**2 for i in x}\n",
    "#print(foo(*x, **y))#(55,385)\n",
    "x=list(range(10))\n",
    "#print(\"\\nx -> \",x,foo(*x))\n",
    "y={'a'+str(i):i**2 for i in x}\n",
    "s=\"\"\n",
    "for k,v in y.items():\n",
    "        s+=k+\"=\"+str(v)+\",\"\n",
    "#print(\"\\ny ->\",y)\n",
    "foo(0, 1, 2, 3, 4, 5, 6, 7, 8, 9,a00=0,a01=1,a02=4,a03=9,a04=16,a05=25)#x,y\n",
    "#print(\"v : \",v)#v :  (45, 14)\n",
    "#print(foo(*x,**y))#(45, 285)#함수  사용시에도 *를 이용가능하며 이의 의미는 나열의 의미이다,\n",
    "\n",
    "    #Multiple return values\n",
    "from math import *#atan2,pi#artan불러와서 이용(in module)#\"*\" --module에 있는 함수들을 전부 \n",
    "#https://docs.python.org/ko/3/library/math.html\n",
    "print(atan2(1,1))#return a radian(pi/4) / res - 0.7853981633974483\n",
    "def to_polar(x,y):\n",
    "        result=[]\n",
    "        result.append((x**2 + y**2)**0.5) \n",
    "        result.append(atan2(x,y))\n",
    "        return result#return list value\n",
    "r, theta = to_polar(2.0, 3.0)\n",
    "#print(r, theta)#res - 3.605551275463989 0.5880026035475675\n",
    "#print(atan(2))#res - 1.1071487177940904\n",
    "y=to_polar(2,3)\n",
    "print(\"y:\",y)#return tuple value"
   ]
  },
  {
   "cell_type": "code",
   "execution_count": 24,
   "id": "bd7c2806",
   "metadata": {},
   "outputs": [
    {
     "name": "stdout",
     "output_type": "stream",
     "text": [
      "1restriction site found!\n",
      "3restriction site found!\n"
     ]
    }
   ],
   "source": [
    "#Python Modules and Packages - 158p\n",
    "    #Modules and Packages\n",
    "    #module is simply a \"Python source file\" /package is simply \"a directory\" of Python module(s).\n",
    "import re #168p\n",
    "dna = \"ATCGCGAATTCAC\"\n",
    "if re.search(r\"GAATTC\", dna): #EcoRI\n",
    "        print(\"1restriction site found!\")#res out\n",
    "# AvalI\n",
    "dna = \"ATCGCGAATTCAC\"\n",
    "if re.search(r\"GGACC\", dna) or re.search(r\"GGTCC\", dna):\n",
    "        print(\"2restriction site found!\")\n",
    "dna = \"ATCGCGAATTCGGTCCAC\"\n",
    "if re.search(r\"GG(A|T)CC\", dna):\n",
    "        print(\"3restriction site found!\")\n",
    "#Character groups, GCNGC\n",
    "dna = \"ATCGCGAATTCAC\"\n",
    "if re.search(r\"GC(A|T|G|C)GC\", dna):\n",
    "        print(\"4restriction site found!\")\n",
    "dna = \"ATCGCGAATTCAC\"\n",
    "if re.search(r\"GC[ATGC]GC\", dna):\n",
    "        print(\"5restriction site found!\")\n",
    "        \n",
    "re.search(r\"^ATG[ATGC]{30,1000}A{5,10}$\", dna )#transcription이 끝난 후 (5'cappling splicing etc...)modification이 발생 - RNA\n",
    "#175p\n",
    "    #an ATG start codon at the beginning of the sequence / •followed by between 30 and 1000 bases which can be A, T, G or C / •followed by a poly-A tail of between 5 and 10 bases at the end of the sequence\n"
   ]
  },
  {
   "cell_type": "code",
   "execution_count": 2,
   "id": "cb32e4a1",
   "metadata": {},
   "outputs": [
    {
     "name": "stdout",
     "output_type": "stream",
     "text": [
      "AGTACACTGGT\n"
     ]
    }
   ],
   "source": [
    "#pip install biopython #https://biopython.org/wiki/Download\n",
    "from Bio.Seq import Seq\n",
    "my_seq = Seq(\"AGTACACTGGT\")\n",
    "print(my_seq)#res - AGTACACTGGT"
   ]
  },
  {
   "cell_type": "code",
   "execution_count": null,
   "id": "cb22f890",
   "metadata": {},
   "outputs": [],
   "source": [
    "#Class - 187p"
   ]
  },
  {
   "cell_type": "markdown",
   "id": "3d173ae4",
   "metadata": {},
   "source": [
    "#HW - codon usage \n",
    "#to do \n",
    "    1)Ecoil MG1655 Genome download(4.6M) - https://www.ncbi.nlm.nih.gov/genome/?term=Eschrichia+coli+mg1655\n",
    "        -https://www.ncbi.nlm.nih.gov/genome/167?genome_assembly_id=161521 에서 다운받기 - \"gunzip\"수행하기\n",
    "    1-1)Annotation table Download \n",
    "    - Download genome annotation in GFF\n",
    "    - 몇번째가 어떤 genome인지 언급되어 있다. \n",
    "    -CDS의 경우 윗 서열의 방향이 뒤집혀있을때 밑 서열을 의미한다?(-인 경우?가 된다)-> 뒤집어서 작업 수행할 것(reverse complementry seq로 만들것)\n",
    "    - +는 그대로 사용하고\n",
    "    2)유전자 전체에 대해서 서열 작성가능\n",
    "    Ex) GEne1 ATG***\n",
    "    Gene2 ATG **\n",
    "    3)각 코돈(64)가지에 대한 빈도수를 카운트 하고 테이블로 작성하기\n",
    "    -3개씩 codon을 잘라서 수행하기"
   ]
  }
 ],
 "metadata": {
  "kernelspec": {
   "display_name": "Python 3 (ipykernel)",
   "language": "python",
   "name": "python3"
  },
  "language_info": {
   "codemirror_mode": {
    "name": "ipython",
    "version": 3
   },
   "file_extension": ".py",
   "mimetype": "text/x-python",
   "name": "python",
   "nbconvert_exporter": "python",
   "pygments_lexer": "ipython3",
   "version": "3.9.7"
  }
 },
 "nbformat": 4,
 "nbformat_minor": 5
}
