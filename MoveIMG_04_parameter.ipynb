{
  "cells": [
    {
      "cell_type": "markdown",
      "metadata": {
        "id": "oQUF1fuSptQY"
      },
      "source": [
        "- IMGRGB_0112.xlsx와 TFres_0112re.csv을 기반으로 수행한다  // Slice_img05.ipynb\n",
        "더하여 처리 안된 이미지는 수동으로 작업함\n",
        "\n",
        "seperIMG_notM02.ipynb\n",
        "\n",
        "- 01/13\n",
        "이미지 처리부터 싹다 다시\n",
        "- 01/16\n",
        "\n",
        "\n",
        "/content/gdrive/MyDrive/MPbio_GD/ProG/TIPS/OWN/adenocarcinoma_DeepL/IMG/Mask_01/slice_img/F_res/Split_ori \n",
        "\n",
        "\n",
        "이미지 재 split"
      ]
    },
    {
      "cell_type": "markdown",
      "metadata": {
        "id": "CbLc5X93pod0"
      },
      "source": [
        "#import library"
      ]
    },
    {
      "cell_type": "code",
      "execution_count": null,
      "metadata": {
        "id": "gu9z9bNkpjjH"
      },
      "outputs": [],
      "source": [
        "from google.colab import drive\n",
        "drive.mount(\"/content/gdrive/\", force_remount=True)"
      ]
    },
    {
      "cell_type": "code",
      "execution_count": null,
      "metadata": {
        "id": "6VRmWfEGqcYV"
      },
      "outputs": [],
      "source": [
        "!pip install callee\n",
        "#for excuse error"
      ]
    },
    {
      "cell_type": "code",
      "execution_count": null,
      "metadata": {
        "id": "8bGfSRKxqfUW"
      },
      "outputs": [],
      "source": [
        "import numpy as np\n",
        "import tensorflow as tf\n",
        "import pandas as pd\n",
        "\n",
        "from PIL import Image\n",
        "import os\n",
        "from glob import glob\n",
        "import shutil\n",
        "from callee import *\n",
        "import math\n",
        "\n",
        "import shutil#이미 실행 시킴_초기화 구현 전에는 수행하지 말 것\n",
        "import random"
      ]
    },
    {
      "cell_type": "markdown",
      "metadata": {
        "id": "zLGhsjecyD1E"
      },
      "source": [
        "#dir list\n",
        "- (01/16) 총 합 이미지의 경우, \"/content/gdrive/MyDrive/MPbio_GD/ProG/TIPS/OWN/adenocarcinoma_DeepL/IMG/Mask_01\" 하위에 unmasked와 masked로 구분되어 있음"
      ]
    },
    {
      "cell_type": "code",
      "execution_count": null,
      "metadata": {
        "id": "fi9we661yLS7"
      },
      "outputs": [],
      "source": [
        "#about oriimg\n",
        "base_dir=\"/content/gdrive/MyDrive/MPbio_GD/ProG/TIPS/OWN/adenocarcinoma_DeepL/IMG/Mask_01/slice_img/F_res/Split_ori/\" #unmask+mask img slies\n",
        "ORIImg=\"/content/gdrive/MyDrive/MPbio_GD/ProG/TIPS/OWN/adenocarcinoma_DeepL/IMG/Mask_orig/tumor_prev/\" #WSI이미지\n",
        "prev_slice=base_dir+\"ALL/\"#WSI 이미지 slice 저장\n",
        "oribase_dir=\"/content/gdrive/MyDrive/MPbio_GD/ProG/TIPS/OWN/DeepL/\"\n",
        "\n",
        "#about 2img\n",
        "ori_dir=\"/content/gdrive/MyDrive/MPbio_GD/ProG/TIPS/OWN/adenocarcinoma_DeepL/IMG/Mask_01/slice_img/F_res/\"\n",
        "#about learningimg\n",
        "test_dir=base_dir+\"test/\"\n",
        "train_dir=base_dir+\"train/\"\n",
        "validation_dir=base_dir+\"validation/\""
      ]
    },
    {
      "cell_type": "markdown",
      "metadata": {
        "id": "cWG-8BWJqE7V"
      },
      "source": [
        "#IMG slice\n"
      ]
    },
    {
      "cell_type": "markdown",
      "metadata": {
        "id": "JsS79DkOz1-i"
      },
      "source": [
        "##slice img "
      ]
    },
    {
      "cell_type": "code",
      "execution_count": null,
      "metadata": {
        "id": "rNnK8fIGMJ21"
      },
      "outputs": [],
      "source": [
        "w_num=30 ; h_len=30#image slice # (갯수로 지정한다)\n",
        "\n",
        "def image_crop( infilename ,save_path): #( infilename ,prev_path ,save_path)\n",
        "    img = Image.open(ORIImg+infilename )\n",
        "    (img_h, img_w) = img.size #width, height  ;#print(img.size)\n",
        "\n",
        "    wslice_size=(img.width)/w_num\n",
        "    hslice_size=(img.height)/h_len\n",
        "\n",
        "    grid_w = wslice_size # crop width\n",
        "    grid_h = hslice_size # crop height\n",
        "    range_w = (int)(img_w/grid_w)\n",
        "    range_h = (int)(img_h/grid_h)\n",
        " \n",
        "    i = 0\n",
        "    for w in range(range_w):\n",
        "        for h in range(range_h):\n",
        "            bbox = (h*grid_h, w*grid_w, (h+1)*(grid_h), (w+1)*(grid_w))   # 가로 세로 시작, 가로 세로 끝\n",
        "            crop_img = img.crop(bbox)\n",
        " \n",
        "            fname = \"{}\".format(\"{0:04d}\".format(i))\n",
        "            savename = save_path + fname +\"_\"+infilename\n",
        "            \n",
        "           ## crop_img.save(savename)\n",
        "            print('save file ' + savename)\n",
        "            i += 1"
      ]
    },
    {
      "cell_type": "code",
      "execution_count": null,
      "metadata": {
        "id": "I5EoLxv138rt"
      },
      "outputs": [],
      "source": [
        "for (path,dir,file) in os.walk(ORIImg):\n",
        "  #if(path.rfind(\"masked\")!=-1):\n",
        "  print(path,dir)\n",
        "  if(len(dir)==0):\n",
        "    infilename=path[int(path.rfind(\"/\"))+1:] ; \n",
        "    print(\"resr\",infilename)\n",
        "    image_crop(infilename, prev_slice)"
      ]
    },
    {
      "cell_type": "markdown",
      "metadata": {
        "id": "lSuI_biKrvIf"
      },
      "source": [
        "##delete img 1KB 미만 + unmaksed/ori에서 분리\n",
        "- 확인 결과 전혀 상관 없는 이미지의 경우 2kb미만안 경우가 대다수\n",
        "- (01/16) masked를 통해 분리 후 unmasked로 분리\n",
        "\n",
        "\n",
        "masked !find ./* -size -1899c -size +1c "
      ]
    },
    {
      "cell_type": "code",
      "execution_count": null,
      "metadata": {
        "id": "zpRzv99zruCm"
      },
      "outputs": [],
      "source": [
        "## find . -size 0 -exec rm -rf {} \\;0002_87-1+original\n",
        "#%cp /content/gdrive/MyDrive/MPbio_GD/ProG/TIPS/OWN/adenocarcinoma_DeepL/IMG/Mask_01/slice_img/F_res/Split_ori/Masked/* /content/gdrive/MyDrive/MPbio_GD/ProG/TIPS/OWN/adenocarcinoma_DeepL/IMG/Mask_01/slice_img/F_res/Split_ori/MNormal/\n",
        "#%mkdir IMG_ALL\n",
        "%cd  /content/gdrive/MyDrive/MPbio_GD/ProG/TIPS/OWN/adenocarcinoma_DeepL/IMG/Mask_01/slice_img/F_res/Split_ori/UnMCancer/\n",
        "#%ls -lSh\n",
        "#%pwd\n",
        "#%rm -r *\n",
        "#!find ./* -size -1899c -size +1c  -exec rm -rf {} \\;\n",
        "\n",
        "##!find ./* -size -1800c -size +1c \n",
        "\n",
        "# for (path,dir,file) in os.walk(Img):\n",
        "#   if (len(dir)==False):# and (path.rfind(\"masked\")!=-1):\n",
        "#     print(path,dir)\n",
        "#     infilename=path[int(path.rfind(\"/\"))+1:] ; print(\"infilename\",infilename)\n",
        "#     #image_crop(infilename,base_dir+\"result/\") "
      ]
    },
    {
      "cell_type": "markdown",
      "metadata": {
        "id": "Ona5rf6Pzthm"
      },
      "source": [
        "##data sep"
      ]
    },
    {
      "cell_type": "code",
      "execution_count": null,
      "metadata": {
        "id": "_L2fpjVHEOOj"
      },
      "outputs": [],
      "source": [
        "re_ftotal=[\"\"]#total에서 normal img list\n",
        "\n",
        "for (path,dir,file) in os.walk(mori_dir+\"mtotal\"):\n",
        "  #print(cpath,cdir,cfile)#sk_slice_img/mtotal [] ['0421_74-2+masked.jpg', '0\n",
        "  #if (len(dir)!=False):# and (path.rfind(\"masked\")!=-1):\n",
        "  for (cpath,cdir,cfile) in os.walk(mori_dir+\"mtotal_cancer\"):\n",
        "    for (cpath,cdir,nfile) in os.walk(mori_dir+\"mtotal_normal\"):\n",
        "      for i in file:\n",
        "        if i not in nfile:\n",
        "          re_ftotal.append(i)\n",
        "      del re_ftotal[0]\n",
        "\n",
        "    print('cfile',cfile,'/ nfile',nfile)\n",
        "    print(\"re_total\",re_ftotal)\n",
        "    print(\"file\",file)\n",
        "  print(len(file),len(cfile),'/',len(re_ftotal),'/',len(nfile))\n",
        "    #infilename=path[int(path.rfind(\"/\"))+1:] ; print(\"infilename\",infilename)\n",
        "    #image_crop(infilename,base_dir+\"result/\") "
      ]
    },
    {
      "cell_type": "code",
      "execution_count": null,
      "metadata": {
        "id": "RqmMLNg9FqiI"
      },
      "outputs": [],
      "source": [
        "#작업\n",
        "#img_mv(mori_dir+\"mtotal\",mori_dir+\"mtotal_normal\",re_ftotal)"
      ]
    },
    {
      "cell_type": "markdown",
      "metadata": {
        "id": "FpsnvILQDvwo"
      },
      "source": [
        "#Data Setup\n",
        "- ( cancer mask )는 가능한 포괄적으로 선택하는 것으로\n",
        "- result에서 normal cancer 복붙 시행\n",
        "normal의 경우 masked된 자료는 어느정도 정리 완료"
      ]
    },
    {
      "cell_type": "code",
      "execution_count": null,
      "metadata": {
        "id": "rkNOji-As0fE"
      },
      "outputs": [],
      "source": [
        "# for name in ctf[\"name_value\"]:\n",
        "#   shutil.copy(slice_ori+name, slice_fil)   #(source, destination)\n",
        "\n",
        "#print(len(os.listdir(base_dir+\"result_ori/\")),'==>',len(os.listdir(Img))) #10410 ==> 6427\n",
        "\n",
        "#%cd /content/gdrive/MyDrive/MPbio_GD/ProG/TIPS/OWN/adenocarcinoma_DeepL/IMG/Mask_01/slice_img/F_res/IMGset/result/\n",
        "#!find /content/gdrive/MyDrive/MPbio_GD/ProG/TIPS/OWN/adenocarcinoma_DeepL/IMG/Mask_01/slice_img/F_res/IMGset/result/* -size -4000c -size +1c -exec cp /content/gdrive/MyDrive/MPbio_GD/ProG/TIPS/OWN/adenocarcinoma_DeepL/IMG/Mask_01/slice_img/F_res/IMGset/result/ /content/gdrive/MyDrive/MPbio_GD/ProG/TIPS/OWN/adenocarcinoma_DeepL/IMG/Mask_01/slice_img/F_res/IMGset/result_normal/ {} \\;\n",
        "\n",
        "#print(len(os.listdir(\"/content/gdrive/MyDrive/MPbio_GD/ProG/TIPS/OWN/adenocarcinoma_DeepL/IMG/Mask_01/slice_img/F_res/Split_ori/MCancer/\")))\n",
        "\n",
        "\n",
        "# for (path,dir,file) in os.walk(Img+\"result_normal\"):\n",
        "#   if (len(dir)==0):# and (path.rfind(\"masked\")!=-1):\n",
        "    \n",
        "#     infilename=path[int(path.rfind(\"/\"))+1:]\n",
        "#     print(\"infilename\",infilename)\n",
        "    #image_crop(infilename,base_dir+\"result/\") "
      ]
    },
    {
      "cell_type": "markdown",
      "metadata": {
        "id": "RKSnFaJB1FMA"
      },
      "source": [
        "- 6425 infilename result_cancer\n",
        "- 6425 infilename result_normal\n"
      ]
    },
    {
      "cell_type": "markdown",
      "metadata": {
        "id": "2ociSGpzQLnd"
      },
      "source": [
        "##masked img에서 분류해둔 info를 통해 unmaksed img와 매칭 시킨다.(0116) \n",
        "- Img+'result'에 있는 orignal img(unmaksed img) 에서 추출"
      ]
    },
    {
      "cell_type": "code",
      "execution_count": null,
      "metadata": {
        "id": "fnilDSGgAeGn"
      },
      "outputs": [],
      "source": [
        "def img_mv2(b_dir,dir_name,st_list,list_name):\n",
        "    #clear #insert\n",
        "    print(\"list_name:\",list_name,\"\\nst_list:\",st_list)\n",
        "    for fn in list_name:\n",
        "      try:\n",
        "          #if len((os.listdir(dir_name)))==0 :\n",
        "          #print('b_dir :',b_dir+fn, \"dir_name :\",dir_name,'\\n')\n",
        "      #    print('b_dir :',b_dir+fn)\n",
        "          print('dir_name :',dir_name+fn)\n",
        "          #shutil.copy(b_dir+fn,dir_name+fn)#copy file\n",
        "      except:\n",
        "        continue"
      ]
    },
    {
      "cell_type": "code",
      "execution_count": null,
      "metadata": {
        "id": "e7GHE0EOAkdH"
      },
      "outputs": [],
      "source": [
        "tm_list=os.listdir(ori_dir+\"MCancer/\")\n",
        "nm_list=os.listdir(ori_dir+\"MNormal/\")\n",
        "tum_list=[\"\"];num_list=[\"\"];tt_list=[\"\"]\n",
        "\n",
        "# for i in tm_list:\n",
        "#   tum_list.append(i.split(\"+\")[0]+\"+original.jpg\")\n",
        "#   tt_list.append(i.split(\"+\")[0])\n",
        "# del tum_list[0]\n",
        "# del tt_list[0]\n",
        "# print(tt_list)\n",
        "# img_mv2(ori_dir+\"UnMasked/\",ori_dir+\"UnMCancer/\",tt_list,tum_list)\n",
        "\n",
        "tt_list=[\"\"]\n",
        "for i in nm_list:\n",
        "  num_list.append(i.split(\"+\")[0]+\"+original.jpg\")\n",
        "  tt_list.append(i.split(\"+\")[0])\n",
        "del num_list[0]\n",
        "del tt_list[0]\n",
        "img_mv2(ori_dir+\"UnMasked/\",ori_dir+\"UnMNormal/\",tt_list,num_list)"
      ]
    },
    {
      "cell_type": "markdown",
      "metadata": {
        "id": "BHVYf9_6S-2W"
      },
      "source": [
        "#modeling"
      ]
    },
    {
      "cell_type": "markdown",
      "source": [
        "##data"
      ],
      "metadata": {
        "id": "37Ay6uDd_l6E"
      }
    },
    {
      "cell_type": "code",
      "execution_count": null,
      "metadata": {
        "id": "QIrK4Bvw6y8c"
      },
      "outputs": [],
      "source": [
        "def rm_list(tlist,tmdir):\n",
        "  print(\"함수\")\n",
        "  print(tlist,\"\\n\",tmdir)\n",
        "#  for x in tlist:\n",
        "#    print(x+\"+masked.jpg\")\n",
        "#  for x in tlist:\n",
        "#    #os.remove(tmdir+x)\n",
        "  return 0"
      ]
    },
    {
      "cell_type": "code",
      "execution_count": null,
      "metadata": {
        "id": "meAFk7cPTPSB"
      },
      "outputs": [],
      "source": [
        "tum_list=[\"\"];num_list=[\"\"];tt_list=[\"\"]\n",
        "for i in uncm_list:\n",
        "  tum_list.append(i.split(\"+\")[0])\n",
        "del tum_list[0]\n",
        "\n",
        "for i in unnm_list:\n",
        "  num_list.append(i.split(\"+\")[0])\n",
        "del num_list[0]\n",
        "#print(len(tum_list),\"tum_list :\",tum_list) ;print(len(num_list),\"num_list :\",num_list);#1069 tum_list : ['0246_141-1', '0246_87-1' // 1492 num_list : ['0602_127-1', '0602_74-2', "
      ]
    },
    {
      "cell_type": "code",
      "source": [
        "#%ls /content/gdrive/MyDrive/MPbio_GD/ProG/TIPS/OWN/adenocarcinoma_DeepL/IMG/Mask_01/slice_img/F_res/\n",
        "# %cd /content/gdrive/MyDrive/MPbio_GD/ProG/TIPS/OWN/adenocarcinoma_DeepL/IMG/Mask_01/slice_img/F_res/\n",
        "# %ls -ls\n",
        "# %cd /content/gdrive/MyDrive/MPbio_GD/ProG/TIPS/OWN/adenocarcinoma_DeepL/IMG/Mask_01/slice_img/F_res/train/\n",
        "\n",
        "#about learningimg\n",
        "test_dir=\"/content/gdrive/MyDrive/MPbio_GD/ProG/TIPS/OWN/adenocarcinoma_DeepL/IMG/Mask_01/slice_img/F_res/test/\"\n",
        "train_dir=\"/content/gdrive/MyDrive/MPbio_GD/ProG/TIPS/OWN/adenocarcinoma_DeepL/IMG/Mask_01/slice_img/F_res/train/\"\n",
        "validation_dir=\"/content/gdrive/MyDrive/MPbio_GD/ProG/TIPS/OWN/adenocarcinoma_DeepL/IMG/Mask_01/slice_img/F_res/validation/\""
      ],
      "metadata": {
        "id": "qr0NQ07fDvtB"
      },
      "execution_count": null,
      "outputs": []
    },
    {
      "cell_type": "code",
      "execution_count": null,
      "metadata": {
        "id": "j23jaWupDy91"
      },
      "outputs": [],
      "source": [
        "def img_mv(b_dir,dir_name,list_name):#정리 하기\n",
        "  #clear \n",
        "  if len((os.listdir(dir_name)))==0 :\n",
        "    print('b_dir :',b_dir,\"dir_name :\",dir_name)\n",
        "    for fn in list_name:\n",
        "#      print(\"fn\",fn)     \n",
        "      #shutil.copy(b_dir+fn,dir_name+fn)#copy file"
      ]
    },
    {
      "cell_type": "code",
      "source": [
        "def rm_list(Ttlist,aplist):\n",
        "  tmplist=[\"\"]\n",
        "  for x in Ttlist:\n",
        "    try:\n",
        "      if x not in aplist:\n",
        "        tmplist.append(x)\n",
        "    except:\n",
        "      continue\n",
        "  del tmplist[0]\n",
        "  print(len(tmplist),\"//tmplist :\",tmplist)\n",
        "  return tmplist"
      ],
      "metadata": {
        "id": "syIXsg4qMioK"
      },
      "execution_count": null,
      "outputs": []
    },
    {
      "cell_type": "code",
      "source": [
        "# tr:vl:te=6:2:2  #image size (128, 128)\n",
        "uncm_list=os.listdir(base_dir+\"UnMCancer/\")\n",
        "unnm_list=os.listdir(base_dir+\"UnMNormal/\")\n",
        "# print(len(tm_list),\"tm_list\",tm_list);print(len(nm_list),\"nm_list\",nm_list)\n",
        "tmpnm=[\"\"];tmpcm=[\"\"];\n",
        "\n",
        "#test_dir,train_dir,validation_dir\n",
        "cm_list=[\"\"];nm_list=[\"\"];\n",
        "\n",
        "#cm_list=random.sample(uncm_list,int(len(uncm_list)*0.6))\n",
        "#img_mv(base_dir+\"UnMCancer/\",train_dir+\"cancer/\",cm_list)\n",
        "#tmpcm=rm_list(uncm_list,cm_list) ;\n",
        "#nm_list=random.sample(unnm_list,int(len(unnm_list)*0.6))\n",
        "#img_mv(base_dir+\"UnMNormal/\",train_dir+\"normal/\",nm_list)\n",
        "#tmpnm=rm_list(uncm_list,nm_list) ;\n",
        "\n",
        "#cm_list=random.sample(uncm_list,int(len(uncm_list)*0.2))\n",
        "#img_mv(base_dir+\"UnMCancer/\",test_dir+\"cancer/\",cm_list)\n",
        "#tmpcm.append(rm_list(uncm_list,cm_list)) \n",
        "#nm_list=random.sample(unnm_list,int(len(unnm_list)*0.2))\n",
        "#img_mv(base_dir+\"UnMNormal/\",test_dir+\"normal/\",nm_list)\n",
        "#tmpnm.append(rm_list(tmpnm,nm_list)) ;\n",
        "\n",
        "#cm_list=random.sample(uncm_list,int(len(uncm_list)*0.2))\n",
        "#img_mv(base_dir+\"UnMCancer/\",validation_dir+\"cancer/\",cm_list)\n",
        "#nm_list=random.sample(unnm_list,int(len(unnm_list)*0.2))\n",
        "#img_mv(base_dir+\"UnMNormal/\",validation_dir+\"normal/\",nm_list)\n",
        "#print(len(uncm_list),'//',len(tmpcm),\"tmpcm\",tmpcm)\n",
        "#print(len(unnm_list),'//',len(tmpnm),\"tmpnm\",tmpnm)"
      ],
      "metadata": {
        "id": "CBFfwq5z_qUl"
      },
      "execution_count": null,
      "outputs": []
    },
    {
      "cell_type": "markdown",
      "source": [
        "##model"
      ],
      "metadata": {
        "id": "UiZTMVo__lth"
      }
    },
    {
      "cell_type": "code",
      "execution_count": null,
      "metadata": {
        "id": "4LTu7DeEjhEI"
      },
      "outputs": [],
      "source": [
        "from tensorflow.keras.layers import Dense\n",
        "\n",
        "img_size=128#이는 확인된것\n",
        "    #CNN modeling\n",
        "model = tf.keras.models.Sequential([\n",
        "      tf.keras.layers.Conv2D(32, (3,3), activation='sigmoid', input_shape=(img_size, img_size, 3)),\n",
        "      tf.keras.layers.MaxPooling2D(2,2),\n",
        "      tf.keras.layers.Conv2D(64, (3,3), activation='relu'),\n",
        "      tf.keras.layers.MaxPooling2D(2,2),\n",
        "      tf.keras.layers.Dropout(0.4,seed=None),#addnoise_shape=True, \n",
        "      tf.keras.layers.Conv2D(128, (3,3), activation='relu'),\n",
        "      tf.keras.layers.MaxPooling2D(2,2),\n",
        "      tf.keras.layers.Conv2D(256, (3,3), activation='relu'),\n",
        "      tf.keras.layers.MaxPooling2D(2,2),\n",
        "      # #tf.keras.layers.Dense(512, activation='relu'),#,kernel_initializer='random_normal'\n",
        "      #tf.keras.layers.Dense(1, activation='softmax'),\n",
        "      tf.keras.layers.Dropout(0.2),#, noise_shape=None\n",
        "      tf.keras.layers.Conv2D(64, (3,3), activation='relu'),\n",
        "      ]) \n",
        "\n",
        "      # tf.keras.layers.MaxPooling2D(2,2),\n",
        "      # tf.keras.layers.Dropout(0.6, noise_shape=None, seed=None),\n",
        "      # tf.keras.layers.Flatten(),\n",
        "      # #tf.keras.layers.Dense(512, activation='relu'),#,kernel_initializer='random_normal'\n",
        "      # tf.keras.layers.Dense(1, activation='softmax') \n",
        "#model.add(tf.keras.layers.Dropout(0.5))\n",
        "model.add(tf.keras.layers.Dense(units=3, activation='sigmoid'))#sigmoid\n",
        "model.add(tf.keras.layers.Flatten())\n",
        "# model compile: \n",
        "model.compile(loss='binary_crossentropy', optimizer='Adamax')\n",
        "\n",
        "print(model.summary())"
      ]
    },
    {
      "cell_type": "markdown",
      "source": [
        "##model 2\n",
        "- (01/17 )기본 설정 값 test_generator ,batch_size =20 / try_t=0 ;steps_per_epoch_n=30; epochs_n=200;batch_size_n=50; validation_steps=50\n",
        "tmp_ep=0.0\n",
        "- train_datagen.flow_from_directory batch_size=300, / try_t=0 ; epochs_n=300;batch_size_n=100; validation_steps=10#;steps_per_epoch_n=50\n",
        "tmp_ep=0.0"
      ],
      "metadata": {
        "id": "WcBRJlJ57b-c"
      }
    },
    {
      "cell_type": "code",
      "source": [
        "from tensorflow.keras.layers import Dense\n",
        "\n",
        "img_size=300\n",
        "\n",
        "model = tf.keras.models.Sequential([\n",
        "  tf.keras.layers.Conv2D(16, (3,3), activation='relu', input_shape=(img_size, img_size, 3)),\n",
        "  tf.keras.layers.MaxPooling2D(2,2),\n",
        "  tf.keras.layers.Conv2D(32, (3,3), activation='relu'),\n",
        "  tf.keras.layers.MaxPooling2D(2,2),\n",
        "  tf.keras.layers.Conv2D(64, (3,3), activation='relu'),\n",
        "  tf.keras.layers.MaxPooling2D(2,2),\n",
        "  tf.keras.layers.Flatten(),\n",
        "  tf.keras.layers.Dense(512, activation='relu'),\n",
        "  tf.keras.layers.Dense(1, activation='sigmoid')\n",
        "])\n",
        "\n",
        "model.summary()\n",
        "# model compile: \n",
        "# model.compile(loss='binary_crossentropy', optimizer='Adam')\n",
        "\n",
        "print(model.summary())"
      ],
      "metadata": {
        "colab": {
          "base_uri": "https://localhost:8080/"
        },
        "id": "sQj2YPr-7bY8",
        "outputId": "e55466e0-8e49-4b20-9296-aaf9370557b1"
      },
      "execution_count": 115,
      "outputs": [
        {
          "output_type": "stream",
          "name": "stdout",
          "text": [
            "Model: \"sequential_22\"\n",
            "_________________________________________________________________\n",
            " Layer (type)                Output Shape              Param #   \n",
            "=================================================================\n",
            " conv2d_95 (Conv2D)          (None, 298, 298, 16)      448       \n",
            "                                                                 \n",
            " max_pooling2d_90 (MaxPoolin  (None, 149, 149, 16)     0         \n",
            " g2D)                                                            \n",
            "                                                                 \n",
            " conv2d_96 (Conv2D)          (None, 147, 147, 32)      4640      \n",
            "                                                                 \n",
            " max_pooling2d_91 (MaxPoolin  (None, 73, 73, 32)       0         \n",
            " g2D)                                                            \n",
            "                                                                 \n",
            " conv2d_97 (Conv2D)          (None, 71, 71, 64)        18496     \n",
            "                                                                 \n",
            " max_pooling2d_92 (MaxPoolin  (None, 35, 35, 64)       0         \n",
            " g2D)                                                            \n",
            "                                                                 \n",
            " flatten_25 (Flatten)        (None, 78400)             0         \n",
            "                                                                 \n",
            " dense_43 (Dense)            (None, 512)               40141312  \n",
            "                                                                 \n",
            " dense_44 (Dense)            (None, 1)                 513       \n",
            "                                                                 \n",
            "=================================================================\n",
            "Total params: 40,165,409\n",
            "Trainable params: 40,165,409\n",
            "Non-trainable params: 0\n",
            "_________________________________________________________________\n",
            "Model: \"sequential_22\"\n",
            "_________________________________________________________________\n",
            " Layer (type)                Output Shape              Param #   \n",
            "=================================================================\n",
            " conv2d_95 (Conv2D)          (None, 298, 298, 16)      448       \n",
            "                                                                 \n",
            " max_pooling2d_90 (MaxPoolin  (None, 149, 149, 16)     0         \n",
            " g2D)                                                            \n",
            "                                                                 \n",
            " conv2d_96 (Conv2D)          (None, 147, 147, 32)      4640      \n",
            "                                                                 \n",
            " max_pooling2d_91 (MaxPoolin  (None, 73, 73, 32)       0         \n",
            " g2D)                                                            \n",
            "                                                                 \n",
            " conv2d_97 (Conv2D)          (None, 71, 71, 64)        18496     \n",
            "                                                                 \n",
            " max_pooling2d_92 (MaxPoolin  (None, 35, 35, 64)       0         \n",
            " g2D)                                                            \n",
            "                                                                 \n",
            " flatten_25 (Flatten)        (None, 78400)             0         \n",
            "                                                                 \n",
            " dense_43 (Dense)            (None, 512)               40141312  \n",
            "                                                                 \n",
            " dense_44 (Dense)            (None, 1)                 513       \n",
            "                                                                 \n",
            "=================================================================\n",
            "Total params: 40,165,409\n",
            "Trainable params: 40,165,409\n",
            "Non-trainable params: 0\n",
            "_________________________________________________________________\n",
            "None\n"
          ]
        }
      ]
    },
    {
      "cell_type": "code",
      "execution_count": 116,
      "metadata": {
        "colab": {
          "base_uri": "https://localhost:8080/"
        },
        "id": "HNBF4WLxD5mo",
        "outputId": "5d41a547-0541-4fca-9cdd-82f7216cf9b8"
      },
      "outputs": [
        {
          "output_type": "stream",
          "name": "stdout",
          "text": [
            "Found 1536 images belonging to 2 classes.\n",
            "Found 511 images belonging to 2 classes.\n",
            "Found 511 images belonging to 2 classes.\n"
          ]
        }
      ],
      "source": [
        "from tensorflow.keras.optimizers import *\n",
        "from tensorflow.keras.preprocessing.image import ImageDataGenerator\n",
        "\n",
        "#model complie\n",
        "model.compile(optimizer=RMSprop(learning_rate=0.001), loss=\"binary_crossentropy\", metrics=[\"accuracy\"])\n",
        "\n",
        "#img pre\n",
        "from tensorflow.keras.preprocessing.image import ImageDataGenerator\n",
        "train_datagen = ImageDataGenerator( rescale = 1.0/200. )\n",
        "test_datagen  = ImageDataGenerator( rescale = 1.0/200. )\n",
        "\n",
        "#/content/gdrive/MyDrive/MPbio_GD/ProG/TIPS/OWN/adenocarcinoma_DeepL/IMG/Mask_01/slice_img/F_res/Split_ori/\n",
        "# train_generator = train_datagen.flow_from_directory(train_dir,\n",
        "#             batch_size=100,  class_mode='binary',target_size=(img_size, img_size))\n",
        "# validation_generator = test_datagen.flow_from_directory(validation_dir,\n",
        "#             batch_size=100, class_mode='binary',target_size=(img_size, img_size))\n",
        "# #test_datagen\n",
        "# test_generator = test_datagen.flow_from_directory(test_dir,\n",
        "#             batch_size=100, class_mode='binary',target_size=(img_size, img_size))\n",
        "\n",
        "m_ori_dir=\"/content/gdrive/MyDrive/MPbio_GD/ProG/TIPS/OWN/adenocarcinoma_DeepL/IMG/Mask_01/slice_img/F_res/Split_ori/\"\n",
        "#m_ori_dir+\"UnMasked\", Image prep\n",
        "train_generator = train_datagen.flow_from_directory(train_dir,\n",
        "            batch_size=300,  class_mode='binary',target_size=(img_size, img_size))\n",
        "#test_datagen\n",
        "test_generator = test_datagen.flow_from_directory(test_dir,\n",
        "            batch_size=100, class_mode='binary',target_size=(img_size, img_size))\n",
        "\n",
        "validation_generator = test_datagen.flow_from_directory(validation_dir,\n",
        "            batch_size=100, class_mode='binary',target_size=(img_size, img_size))"
      ]
    },
    {
      "cell_type": "code",
      "execution_count": null,
      "metadata": {
        "id": "DLLbRtaWscfl"
      },
      "outputs": [],
      "source": [
        "import pandas as pd\n",
        "import os\n",
        "#결과 저장하기 -- 높은 acc를 위해서\n",
        "#print(\"train_dir : \",train_dir); #print(\"os.listdir : \",nm_list) #train_dir :  /content/gdrive/MyDrive/MPbio_GD/ProG/TIPS/OWN/DeepL/train/  # os.listdir :  ['31-1_0.4x_47.jpg',\n",
        "#print(history.history.keys())\n",
        "\n",
        "Train_list,Validation_list=list(),list()\n",
        "tmp_num01=0\n",
        "#/content/gdrive/MyDrive/MPbio_GD/ProG/TIPS/OWN/DeepL/validation/tumor_validation/ \n",
        "\n",
        "def save_res(try_t,epochs,batch_size,steps_per_epoch,Accuracy):\n",
        "#model check\n",
        "  Train_list,Validation_list=list(),list()\n",
        "  global tmp_num01\n",
        "  loss_metrics=model.evaluate(test_generator,verbose=2)#,train_generator,\n",
        "  index_n=[\"TRY_t\",\"Epochs\",\"Batch_size\",\"Steps_per_epoch\",\"Loss\",\"Accuracy\",\"File_list\"]#index_n=list()\n",
        "  print(\"index_n\",len(index_n))\n",
        "  \n",
        "  value_d=list()\n",
        "  fres=open(ori_dir+\"Learnigrc.csv\",\"a\")\n",
        "  #dfv=pd.DataFrame();dft=pd.DataFrame()\n",
        "  for (path, dir, file) in os.walk(base_dir):\n",
        "    print(path);print(\"dir::\",dir)\n",
        "    if(path[-11:]==\"validation\"):\n",
        "          print(\"validation ::\")\n",
        "          value_d=[str(try_t)+\" validation\",epochs,batch_size,steps_per_epoch,loss_metrics[0],loss_metrics[1]]\n",
        "          dfv=pd.DataFrame([value_d],columns=[index_n])\n",
        "          print(\"validation //\",dfv)\n",
        "          if(tmp_num01==0):\n",
        "            dfv.to_csv(fres,header=True,mode =\"a\",index=None)\n",
        "            tmp_num01=1\n",
        "          else: \n",
        "            dfv.to_csv(fres,header=False,mode =\"a\")\n",
        "    elif(path[-5:]==\"train\"):\n",
        "          print(\"train ::\")\n",
        "          value_d=[str(try_t)+\" train\",epochs,batch_size,steps_per_epoch,loss_metrics[0],loss_metrics[1],tm_list]\n",
        "          dft=pd.DataFrame([value_d],columns=[index_n])\n",
        "          print(\"train //\",dft)\n",
        "          if(tmp_num01==0):\n",
        "            dft.to_csv(fres,header=False,mode =\"a\",index=None)\n",
        "            tmp_num01=1\n",
        "          else: \n",
        "            dft.to_csv(fres,header=False,mode =\"a\")\n",
        "  # pd.merge(dft,dfv,how='outer')\n",
        "  # dfv.to_csv(fres,header=False,mode =\"a\")\n",
        "    #fres.close()"
      ]
    },
    {
      "cell_type": "code",
      "execution_count": null,
      "metadata": {
        "id": "eCcQapNvUMPA"
      },
      "outputs": [],
      "source": [
        "#training\n",
        "import matplotlib.pyplot as plt\n",
        "from callee import *\n",
        "import traceback\n",
        "import pandas as pd\n",
        "import os\n",
        "from tensorflow.python.keras.models import load_model\n",
        "\n",
        "try_t=0 ; epochs_n=300;batch_size_n=100; validation_steps=10#;steps_per_epoch_n=50\n",
        "tmp_ep=0.0\n",
        "\n",
        "res_dir=ori_dir\n",
        "#\n",
        "while(True):\n",
        "  try:\n",
        "    #steps_per_epoch=10; epochs=100;batch_size=10;\n",
        "\n",
        "    history=model.fit(train_generator,validation_data=validation_generator, epochs=epochs_n,#, steps_per_epoch=steps_per_epoch_n,batch_size=batch_size_n,\n",
        "    verbose=2,shuffle=True )#validation_steps=20,\n",
        "    \n",
        "    batch_size=batch_size_n;steps_per_epoch=steps_per_epoch_n\n",
        "    \n",
        "    acc = history.history['accuracy']\n",
        "    val_acc = history.history['val_accuracy']\n",
        "    loss = history.history['loss']\n",
        "    val_loss = history.history['val_loss']\n",
        "\n",
        "    epochs = range(len(acc))\n",
        "    print(epochs)\n",
        "    tmp_ep=(sum(acc)/len(acc))\n",
        "    \n",
        "    if (try_t==0 or (sum(acc)/len(acc))>=tmp_ep):\n",
        "      steps_per_epoch_n=steps_per_epoch_n+10;\n",
        "      tmp_ep=(sum(acc)/len(acc))\n",
        "      save_res(try_t,epochs,batch_size,steps_per_epoch,tmp_ep)\n",
        "    elif((sum(acc)/len(acc))>=tmp_ep):\n",
        "      batch_size_n=batch_size_n+10;\n",
        "      #모델 저장하기#결과 값 지니고 있음\n",
        "      model.save(res_dir+'mnist_mlp_model.h5')\n",
        "      save_res(try_t,epochs,batch_size,steps_per_epoch,tmp_ep)\n",
        "      #model res import \n",
        "      tmpload_md=tf.keras.models.load_model(res_dir+'mnist_mlp_model.h5')\n",
        "      #test_loss, test_acc = tmpload_md.evaluate(train_generator,validation_data=validation_generator, verbose=2)#train_generator,validation_data=validation_generator, //x,  y,\n",
        "      try_t=try_t+1;\n",
        "    else:\n",
        "      steps_per_epoch_n=steps_per_epoch_n+10;\n",
        "      batch_size_n=batch_size_n+10;\n",
        "      try_t=try_t+1;\n",
        "\n",
        "      \n",
        "    \n",
        "    plt.plot(epochs, acc, 'bo', label='Training accuracy')\n",
        "    plt.plot(epochs,val_acc, 'r', label='Validation accuracy')\n",
        "    plt.title('Training and validation accuracy')\n",
        "    plt.legend()\n",
        "\n",
        "    plt.figure()\n",
        "\n",
        "    plt.plot(epochs, loss, 'go', label='Training Loss')\n",
        "    plt.plot(epochs,val_loss, 'r', label='Validation Loss')\n",
        "    plt.title('Training and validation loss')\n",
        "    plt.legend()\n",
        "\n",
        "    plt.show()\n",
        "  except Exception as em:\n",
        "    print(em,\"// error\")\n",
        "    continue                    #spe<ep&spe==vs"
      ]
    }
  ],
  "metadata": {
    "colab": {
      "provenance": [],
      "collapsed_sections": [
        "cWG-8BWJqE7V",
        "JsS79DkOz1-i",
        "lSuI_biKrvIf",
        "Ona5rf6Pzthm"
      ],
      "toc_visible": true,
      "machine_shape": "hm"
    },
    "kernelspec": {
      "display_name": "Python 3",
      "name": "python3"
    },
    "language_info": {
      "name": "python"
    },
    "accelerator": "GPU",
    "gpuClass": "standard"
  },
  "nbformat": 4,
  "nbformat_minor": 0
}
