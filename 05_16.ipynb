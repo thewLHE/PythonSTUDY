{
 "cells": [
  {
   "cell_type": "code",
   "execution_count": 4,
   "id": "76a86b76",
   "metadata": {},
   "outputs": [
    {
     "name": "stdout",
     "output_type": "stream",
     "text": [
      "Hello world\n",
      "Hello Hello Hello Hello world\n"
     ]
    },
    {
     "data": {
      "text/plain": [
       "29"
      ]
     },
     "execution_count": 4,
     "metadata": {},
     "output_type": "execute_result"
    }
   ],
   "source": [
    "s=\"hello world\"\n",
    "s='hello world'\n",
    "\"hello\"+\"world\"\n",
    "\n",
    "s=\"Hello \"\n",
    "s2=\"world\"\n",
    "s3=s+s2\n",
    "print(s3)\n",
    "\n",
    "s4=s*4+s2\n",
    "print(s4)\n",
    "len(s4)"
   ]
  },
  {
   "cell_type": "code",
   "execution_count": 36,
   "id": "bb845d32",
   "metadata": {},
   "outputs": [
    {
     "name": "stdout",
     "output_type": "stream",
     "text": [
      "2500\n"
     ]
    },
    {
     "data": {
      "text/plain": [
       "2463"
      ]
     },
     "execution_count": 36,
     "metadata": {},
     "output_type": "execute_result"
    }
   ],
   "source": [
    "#split / join string \n",
    "s=\"hello world\"\n",
    "wr=s.split()\n",
    "#print(wr)\n",
    "space=''\n",
    "space.join(wr)\n",
    "s.split(sep='wo')\n",
    "    #object --- value\n",
    "    #       --- method / function\n",
    "s=\"HEllo,\"*10+\"World\"\n",
    "s_world=s.split(',')\n",
    "#print(s_world)\n",
    "'+'.join(s_world)\n",
    "c='||'\n",
    "c.join(s_world)\n",
    "dna=\"ATGCGCATTTACTTTTTCCCAAAACCCAAATATAT\"\n",
    "dna.lower()#if you wanna change string... insert different variable\n",
    "dna.upper()\n",
    "dna.capitalize()\n",
    "\n",
    "dna.count(\"A\")\n",
    "dna.count('A',0,10)\n",
    "    #GC base counting\n",
    "#A=dna.count(\"A\")\n",
    "#T=dna.count(\"T\")\n",
    "#dnain=input(\"Enter your dna seq: \")\n",
    "G=dna.count(\"G\")\n",
    "C=dna.count(\"C\")\n",
    "GC=((G+C)/len(dna))*100\n",
    "#print(GC,\"%\")\n",
    "dna.rstrip\n",
    "s=\"helloworld\"\n",
    "s.replace('world','python')\n",
    "    #dna complemently\n",
    "dna=\"ATGTTTCGCATTTACTAAATCCCAAAACCCAAATATATGTA\"\n",
    "dna_c=\"\"\n",
    "dna_c=dna.replace('A','t')\n",
    "dna_c=dna_c.replace('G','c')\n",
    "dna_c=dna_c.replace('C','g')\n",
    "dna_c=dna_c.replace('T','a')\n",
    "#print(dna,\"->\",dna_c.upper())\n",
    "s=\"\\t hello world \\n d\" \n",
    "#print(s)\n",
    "s.strip()#remove whitespace\n",
    "s=\">gil338847612|ref|YP_488308.1|fused aspartokinase |\"\n",
    "s.startswith('>')#check thr first character of a string\n",
    "s.endswith('\\n')\n",
    "#avaliable string method\n",
    "dir(s)\n",
    "# https://www.ncbi.nlm.nih.gov/nuccore/NC_000913.3?report=fasta&from=337&to=2799\n",
    "aspartokinase=\"\"\"\n",
    "ATGCGAGTGTTGAAGTTCGGCGGTACATCAGTGGCAAATGCAGAACGTTTTCTGCGTGTTGCCGATATTC\n",
    "TGGAAAGCAATGCCAGGCAGGGGCAGGTGGCCACCGTCCTCTCTGCCCCCGCCAAAATCACCAACCACCT\n",
    "GGTGGCGATGATTGAAAAAACCATTAGCGGCCAGGATGCTTTACCCAATATCAGCGATGCCGAACGTATT\n",
    "TTTGCCGAACTTTTGACGGGACTCGCCGCCGCCCAGCCGGGGTTCCCGCTGGCGCAATTGAAAACTTTCG\n",
    "TCGATCAGGAATTTGCCCAAATAAAACATGTCCTGCATGGCATTAGTTTGTTGGGGCAGTGCCCGGATAG\n",
    "CATCAACGCTGCGCTGATTTGCCGTGGCGAGAAAATGTCGATCGCCATTATGGCCGGCGTATTAGAAGCG\n",
    "CGCGGTCACAACGTTACTGTTATCGATCCGGTCGAAAAACTGCTGGCAGTGGGGCATTACCTCGAATCTA\n",
    "CCGTCGATATTGCTGAGTCCACCCGCCGTATTGCGGCAAGCCGCATTCCGGCTGATCACATGGTGCTGAT\n",
    "GGCAGGTTTCACCGCCGGTAATGAAAAAGGCGAACTGGTGGTGCTTGGACGCAACGGTTCCGACTACTCT\n",
    "GCTGCGGTGCTGGCTGCCTGTTTACGCGCCGATTGTTGCGAGATTTGGACGGACGTTGACGGGGTCTATA\n",
    "CCTGCGACCCGCGTCAGGTGCCCGATGCGAGGTTGTTGAAGTCGATGTCCTACCAGGAAGCGATGGAGCT\n",
    "TTCCTACTTCGGCGCTAAAGTTCTTCACCCCCGCACCATTACCCCCATCGCCCAGTTCCAGATCCCTTGC\n",
    "CTGATTAAAAATACCGGAAATCCTCAAGCACCAGGTACGCTCATTGGTGCCAGCCGTGATGAAGACGAAT\n",
    "TACCGGTCAAGGGCATTTCCAATCTGAATAACATGGCAATGTTCAGCGTTTCTGGTCCGGGGATGAAAGG\n",
    "GATGGTCGGCATGGCGGCGCGCGTCTTTGCAGCGATGTCACGCGCCCGTATTTCCGTGGTGCTGATTACG\n",
    "CAATCATCTTCCGAATACAGCATCAGTTTCTGCGTTCCACAAAGCGACTGTGTGCGAGCTGAACGGGCAA\n",
    "TGCAGGAAGAGTTCTACCTGGAACTGAAAGAAGGCTTACTGGAGCCGCTGGCAGTGACGGAACGGCTGGC\n",
    "CATTATCTCGGTGGTAGGTGATGGTATGCGCACCTTGCGTGGGATCTCGGCGAAATTCTTTGCCGCACTG\n",
    "GCCCGCGCCAATATCAACATTGTCGCCATTGCTCAGGGATCTTCTGAACGCTCAATCTCTGTCGTGGTAA\n",
    "ATAACGATGATGCGACCACTGGCGTGCGCGTTACTCATCAGATGCTGTTCAATACCGATCAGGTTATCGA\n",
    "AGTGTTTGTGATTGGCGTCGGTGGCGTTGGCGGTGCGCTGCTGGAGCAACTGAAGCGTCAGCAAAGCTGG\n",
    "CTGAAGAATAAACATATCGACTTACGTGTCTGCGGTGTTGCCAACTCGAAGGCTCTGCTCACCAATGTAC\n",
    "ATGGCCTTAATCTGGAAAACTGGCAGGAAGAACTGGCGCAAGCCAAAGAGCCGTTTAATCTCGGGCGCTT\n",
    "AATTCGCCTCGTGAAAGAATATCATCTGCTGAACCCGGTCATTGTTGACTGCACTTCCAGCCAGGCAGTG\n",
    "GCGGATCAATATGCCGACTTCCTGCGCGAAGGTTTCCACGTTGTCACGCCGAACAAAAAGGCCAACACCT\n",
    "CGTCGATGGATTACTACCATCAGTTGCGTTATGCGGCGGAAAAATCGCGGCGTAAATTCCTCTATGACAC\n",
    "CAACGTTGGGGCTGGATTACCGGTTATTGAGAACCTGCAAAATCTGCTCAATGCAGGTGATGAATTGATG\n",
    "AAGTTCTCCGGCATTCTTTCTGGTTCGCTTTCTTATATCTTCGGCAAGTTAGACGAAGGCATGAGTTTCT\n",
    "CCGAGGCGACCACGCTGGCGCGGGAAATGGGTTATACCGAACCGGACCCGCGAGATGATCTTTCTGGTAT\n",
    "GGATGTGGCGCGTAAACTATTGATTCTCGCTCGTGAAACGGGACGTGAACTGGAGCTGGCGGATATTGAA\n",
    "ATTGAACCTGTGCTGCCCGCAGAGTTTAACGCCGAGGGTGATGTTGCCGCTTTTATGGCGAATCTGTCAC\n",
    "AACTCGACGATCTCTTTGCCGCGCGCGTGGCGAAGGCCCGTGATGAAGGAAAAGTTTTGCGCTATGTTGG\n",
    "CAATATTGATGAAGATGGCGTCTGCCGCGTGAAGATTGCCGAAGTGGATGGTAATGATCCGCTGTTCAAA\n",
    "GTGAAAAATGGCGAAAACGCCCTGGCCTTCTATAGCCACTATTATCAGCCGCTGCCGTTGGTACTGCGCG\n",
    "GATATGGTGCGGGCAATGACGTTACAGCTGCCGGTGTCTTTGCTGATCTGCTACGTACCCTCTCATGGAA\n",
    "GTTAGGAGTCTGA\n",
    "\"\"\"\n",
    "print(len(aspartokinase))\n",
    "#counting len + remove\"\\n\"\n",
    "nulS=''\n",
    "aspl=aspartokinase\n",
    "    #1me\n",
    "aspl_clean=aspl.replace(\"\\n\",\"\")\n",
    "len(aspl_clean)\n",
    "dna_c=\"\"\n",
    "dna_c=aspl_clean.replace('A','t')\n",
    "dna_c=dna_c.replace('G','c')\n",
    "dna_c=dna_c.replace('C','g')\n",
    "dna_c=dna_c.replace('T','a')\n",
    "#type(nulS);len(nulS)\n",
    "    #2me\n",
    "asp_lst=aspartokinase.split('\\n')\n",
    "asp_lst2=''.join(asp_lst)\n",
    "len(asp_lst2)"
   ]
  },
  {
   "cell_type": "code",
   "execution_count": null,
   "id": "2da26a3a",
   "metadata": {},
   "outputs": [],
   "source": []
  }
 ],
 "metadata": {
  "kernelspec": {
   "display_name": "Python 3 (ipykernel)",
   "language": "python",
   "name": "python3"
  },
  "language_info": {
   "codemirror_mode": {
    "name": "ipython",
    "version": 3
   },
   "file_extension": ".py",
   "mimetype": "text/x-python",
   "name": "python",
   "nbconvert_exporter": "python",
   "pygments_lexer": "ipython3",
   "version": "3.9.7"
  }
 },
 "nbformat": 4,
 "nbformat_minor": 5
}
